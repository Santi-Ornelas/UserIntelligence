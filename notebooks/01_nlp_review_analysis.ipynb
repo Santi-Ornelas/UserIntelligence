{
 "cells": [
  {
   "cell_type": "markdown",
   "metadata": {},
   "source": [
    "# Implementation of Basic Statistics"
   ]
  },
  {
   "cell_type": "code",
   "execution_count": null,
   "metadata": {},
   "outputs": [
    {
     "name": "stdout",
     "output_type": "stream",
     "text": [
      "✅ Cleaned and loaded 34264 reviews.\n",
      "{'asin': 'B00004U9V2',\n",
      " 'avg_rating': 4.75,\n",
      " 'avg_rating_weighted': 4.76,\n",
      " 'avg_review_length': 22.0,\n",
      " 'most_common_review_month': '2017-02',\n",
      " 'percent_verified': 0.88,\n",
      " 'rating_dist': {3: 2, 4: 2, 5: 20},\n",
      " 'total_reviews': 24}\n"
     ]
    },
    {
     "name": "stderr",
     "output_type": "stream",
     "text": [
      "/var/folders/1d/214m00rd5793k4c8pscbc9pm0000gn/T/ipykernel_51560/3656673485.py:60: FutureWarning: DataFrameGroupBy.apply operated on the grouping columns. This behavior is deprecated, and in a future version of pandas the grouping columns will be excluded from the operation. Either pass `include_groups=False` to exclude the groupings or explicitly select the grouping columns after groupby to silence this warning.\n",
      "  basic_stats_df = grouped.apply(get_basic_stats).reset_index()\n"
     ]
    }
   ],
   "source": [
    "# 📦 Imports\n",
    "import json\n",
    "import pandas as pd\n",
    "\n",
    "file_path = '/Users/santiornsan/UserIntelligence/data/raw/luxury_beauty_reviews.json'\n",
    "\n",
    "# Load JSON Lines with safety\n",
    "data = []\n",
    "with open(file_path, 'r', encoding='utf-8') as f:\n",
    "    for line in f:\n",
    "        try:\n",
    "            data.append(json.loads(line.strip()))\n",
    "        except json.JSONDecodeError:\n",
    "            continue  # Skip malformed lines\n",
    "\n",
    "df = pd.DataFrame(data)\n",
    "\n",
    "# ✅ Clean and prep the data\n",
    "required_columns = ['asin', 'overall', 'verified', 'reviewTime', 'reviewText']\n",
    "df = df[[col for col in required_columns if col in df.columns]]\n",
    "df = df.dropna(subset=['asin', 'overall', 'reviewText', 'reviewTime'])\n",
    "df['reviewTime'] = pd.to_datetime(df['reviewTime'], errors='coerce')\n",
    "df = df[df['reviewTime'].notnull()]\n",
    "df['verified'] = df['verified'].astype(bool)\n",
    "df['reviewLength'] = df['reviewText'].apply(lambda x: len(x.split()) if isinstance(x, str) else 0)\n",
    "\n",
    "print(f\"✅ Cleaned and loaded {len(df)} reviews.\")\n",
    "df.head()\n",
    "\n",
    "# 📊 Define Stats Function\n",
    "def get_basic_stats(group):\n",
    "    total_reviews = len(group)\n",
    "    avg_rating = group['overall'].mean()\n",
    "    \n",
    "    weights = group['verified'].apply(lambda x: 2 if x else 1)\n",
    "    avg_rating_weighted = (group['overall'] * weights).sum() / weights.sum()\n",
    "    \n",
    "    percent_verified = group['verified'].mean()\n",
    "    rating_dist = {int(k): v for k, v in group['overall'].value_counts().sort_index().to_dict().items()}\n",
    "    avg_review_length = group['reviewLength'].mean()\n",
    "\n",
    "    if group['reviewTime'].notnull().any():\n",
    "        month_year = group['reviewTime'].dt.to_period(\"M\").astype(str)\n",
    "        most_common_month = Counter(month_year).most_common(1)[0][0]\n",
    "    else:\n",
    "        most_common_month = None\n",
    "\n",
    "    return pd.Series({\n",
    "        'total_reviews': total_reviews,\n",
    "        'avg_rating': round(avg_rating, 2),\n",
    "        'avg_rating_weighted': round(avg_rating_weighted, 2),\n",
    "        'percent_verified': round(percent_verified, 2),\n",
    "        'rating_dist': rating_dist,\n",
    "        'avg_review_length': round(avg_review_length, 2),\n",
    "        'most_common_review_month': most_common_month\n",
    "    })\n",
    "\n",
    "# 🔁 Compute Stats Per Product\n",
    "grouped = df.groupby('asin')\n",
    "basic_stats_df = grouped.apply(get_basic_stats).reset_index()\n",
    "\n",
    "# 📤 Convert to JSON (records = list of dicts)\n",
    "basic_stats_json = basic_stats_df.to_dict(orient='records')\n",
    "\n",
    "# 👁️ Optional: Preview the first result\n",
    "from pprint import pprint\n",
    "pprint(basic_stats_json[0])"
   ]
  }
 ],
 "metadata": {
  "kernelspec": {
   "display_name": "venv",
   "language": "python",
   "name": "python3"
  },
  "language_info": {
   "codemirror_mode": {
    "name": "ipython",
    "version": 3
   },
   "file_extension": ".py",
   "mimetype": "text/x-python",
   "name": "python",
   "nbconvert_exporter": "python",
   "pygments_lexer": "ipython3",
   "version": "3.13.2"
  }
 },
 "nbformat": 4,
 "nbformat_minor": 2
}
